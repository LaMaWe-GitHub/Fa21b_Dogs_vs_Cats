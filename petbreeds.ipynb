{
 "cells": [
  {
   "cell_type": "code",
   "execution_count": 1,
   "metadata": {
    "execution": {
     "iopub.execute_input": "2023-05-08T09:18:54.997929Z",
     "iopub.status.busy": "2023-05-08T09:18:54.997675Z",
     "iopub.status.idle": "2023-05-08T09:18:55.170626Z",
     "shell.execute_reply": "2023-05-08T09:18:55.169849Z",
     "shell.execute_reply.started": "2023-05-08T09:18:54.997876Z"
    }
   },
   "outputs": [],
   "source": [
    "import numpy as np\n",
    "import csv\n",
    "import cv2\n",
    "import glob\n",
    "import os\n",
    "import xml.etree.ElementTree as ET"
   ]
  },
  {
   "cell_type": "code",
   "execution_count": 2,
   "metadata": {
    "execution": {
     "iopub.execute_input": "2023-05-08T09:18:55.172373Z",
     "iopub.status.busy": "2023-05-08T09:18:55.171910Z",
     "iopub.status.idle": "2023-05-08T09:18:55.176270Z",
     "shell.execute_reply": "2023-05-08T09:18:55.175353Z",
     "shell.execute_reply.started": "2023-05-08T09:18:55.172156Z"
    }
   },
   "outputs": [],
   "source": [
    "SPLIT_RATIO = 0.8\n",
    "XMLS = \"../input/annotations/annotations/xmls\""
   ]
  },
  {
   "cell_type": "code",
   "execution_count": 3,
   "metadata": {
    "execution": {
     "iopub.execute_input": "2023-05-08T09:18:55.178307Z",
     "iopub.status.busy": "2023-05-08T09:18:55.177683Z",
     "iopub.status.idle": "2023-05-08T09:19:25.532867Z",
     "shell.execute_reply": "2023-05-08T09:19:25.531823Z",
     "shell.execute_reply.started": "2023-05-08T09:18:55.178258Z"
    }
   },
   "outputs": [],
   "source": [
    "class_names = {}\n",
    "k = 0\n",
    "output = []\n",
    "xml_files = glob.glob(\"{}/*xml\".format(XMLS))\n",
    "for i, xml_file in enumerate(xml_files):\n",
    "    tree = ET.parse(xml_file)\n",
    "\n",
    "    path = os.path.join(XMLS, tree.findtext(\"./filename\"))\n",
    "\n",
    "    height = int(tree.findtext(\"./size/height\"))\n",
    "    width = int(tree.findtext(\"./size/width\"))\n",
    "    xmin = int(tree.findtext(\"./object/bndbox/xmin\"))\n",
    "    ymin = int(tree.findtext(\"./object/bndbox/ymin\"))\n",
    "    xmax = int(tree.findtext(\"./object/bndbox/xmax\"))\n",
    "    ymax = int(tree.findtext(\"./object/bndbox/ymax\"))\n",
    "\n",
    "    basename = os.path.basename(path)\n",
    "    basename = os.path.splitext(basename)[0]\n",
    "    class_name = basename[:basename.rfind(\"_\")].lower()\n",
    "    if class_name not in class_names:\n",
    "        class_names[class_name] = k\n",
    "        k += 1\n",
    "\n",
    "    output.append((path, height, width, xmin, ymin, xmax, ymax, class_name, class_names[class_name]))\n",
    "\n",
    "# preserve percentage of samples for each class (\"stratified\")\n",
    "output.sort(key=lambda tup : tup[-1])"
   ]
  },
  {
   "cell_type": "code",
   "execution_count": 4,
   "metadata": {
    "execution": {
     "iopub.execute_input": "2023-05-08T09:19:25.535462Z",
     "iopub.status.busy": "2023-05-08T09:19:25.534975Z",
     "iopub.status.idle": "2023-05-08T09:19:25.548347Z",
     "shell.execute_reply": "2023-05-08T09:19:25.547365Z",
     "shell.execute_reply.started": "2023-05-08T09:19:25.535405Z"
    }
   },
   "outputs": [
    {
     "name": "stdout",
     "output_type": "stream",
     "text": [
      "class staffordshire_bull_terrier: 100 images\n",
      "class saint_bernard: 99 images\n",
      "class birman: 100 images\n",
      "class british_shorthair: 100 images\n",
      "class leonberger: 100 images\n",
      "class keeshond: 100 images\n",
      "class scottish_terrier: 100 images\n",
      "class egyptian_mau: 92 images\n",
      "class havanese: 100 images\n",
      "class wheaten_terrier: 100 images\n",
      "class miniature_pinscher: 100 images\n",
      "class shiba_inu: 100 images\n",
      "class sphynx: 100 images\n",
      "class samoyed: 99 images\n",
      "class pug: 100 images\n",
      "class russian_blue: 100 images\n",
      "class yorkshire_terrier: 100 images\n",
      "class english_setter: 100 images\n",
      "class basset_hound: 100 images\n",
      "class pomeranian: 100 images\n",
      "class bengal: 98 images\n",
      "class abyssinian: 99 images\n",
      "class newfoundland: 100 images\n",
      "class american_bulldog: 100 images\n",
      "class persian: 100 images\n",
      "class maine_coon: 100 images\n",
      "class japanese_chin: 100 images\n",
      "class american_pit_bull_terrier: 100 images\n",
      "class ragdoll: 99 images\n",
      "class english_cocker_spaniel: 100 images\n",
      "class siamese: 100 images\n",
      "class boxer: 100 images\n",
      "class beagle: 100 images\n",
      "class german_shorthaired: 100 images\n",
      "class great_pyrenees: 100 images\n",
      "class bombay: 100 images\n",
      "class chihuahua: 100 images\n"
     ]
    }
   ],
   "source": [
    "lengths = []\n",
    "i = 0\n",
    "last = 0\n",
    "for j, row in enumerate(output):\n",
    "    if last == row[-1]:\n",
    "        i += 1\n",
    "    else:\n",
    "        print(\"class {}: {} images\".format(output[j-1][-2], i))\n",
    "        lengths.append(i)\n",
    "        i = 1\n",
    "        last += 1\n",
    "\n",
    "print(\"class {}: {} images\".format(output[j-1][-2], i))\n",
    "lengths.append(i)"
   ]
  },
  {
   "cell_type": "code",
   "execution_count": 5,
   "metadata": {
    "execution": {
     "iopub.execute_input": "2023-05-08T09:19:25.550597Z",
     "iopub.status.busy": "2023-05-08T09:19:25.549967Z",
     "iopub.status.idle": "2023-05-08T09:19:25.565149Z",
     "shell.execute_reply": "2023-05-08T09:19:25.564208Z",
     "shell.execute_reply.started": "2023-05-08T09:19:25.550369Z"
    }
   },
   "outputs": [
    {
     "name": "stdout",
     "output_type": "stream",
     "text": [
      "2984\n",
      "702\n"
     ]
    }
   ],
   "source": [
    "training_data = []\n",
    "validation_data = []\n",
    "s = 0\n",
    "for c in lengths:\n",
    "    for i in range(c):\n",
    "        path, height, width, xmin, ymin, xmax, ymax, class_name, class_id = output[s]\n",
    "        if xmin >= xmax or ymin >= ymax or xmax > width or ymax > height or xmin < 0 or ymin < 0:\n",
    "            print(\"Warning: {} contains invalid box. Skipped...\".format(path))\n",
    "            continue\n",
    "            \n",
    "        if i <= c * SPLIT_RATIO:\n",
    "            training_data.append(output[s])\n",
    "        else:\n",
    "            validation_data.append(output[s])\n",
    "\n",
    "        s += 1\n",
    "print(len(training_data))\n",
    "print(len(validation_data))"
   ]
  }
 ],
 "metadata": {
  "kernelspec": {
   "display_name": "Python 3",
   "language": "python",
   "name": "python3"
  },
  "language_info": {
   "codemirror_mode": {
    "name": "ipython",
    "version": 3
   },
   "file_extension": ".py",
   "mimetype": "text/x-python",
   "name": "python",
   "nbconvert_exporter": "python",
   "pygments_lexer": "ipython3",
   "version": "3.6.4"
  }
 },
 "nbformat": 4,
 "nbformat_minor": 4
}
